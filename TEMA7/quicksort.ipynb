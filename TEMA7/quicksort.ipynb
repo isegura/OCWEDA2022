{
  "nbformat": 4,
  "nbformat_minor": 0,
  "metadata": {
    "colab": {
      "provenance": []
    },
    "kernelspec": {
      "name": "python3",
      "display_name": "Python 3"
    },
    "language_info": {
      "name": "python"
    }
  },
  "cells": [
    {
      "cell_type": "markdown",
      "source": [
        "# Divide y Vencerás. Quicksort\n",
        "En este notebook, codificaremos distintas implementaciones del algoritmo quicksort.\n",
        "\n",
        "El algoritmo quicksort recibe una lista y ordena dicha lista de menor a mayor. \n",
        "\n",
        "Quicksort se basa en la elección de un elemento pivote, y la creación de dos particiones, los elementos que son menores que el pivote, y los elementos mayores al pivote. Después de crear las dos particiones, el pivote estará colocado en la posición que le corresponde en la lista ordenada.\n",
        "\n",
        "## Quicksort (listas auxiliares y primer elemento como pivote)\n",
        "\n"
      ],
      "metadata": {
        "id": "MSgTdU598eOC"
      }
    },
    {
      "cell_type": "code",
      "source": [
        "def partitions(a: list) -> (list, int, list):\n",
        "    \"\"\" recibe una lista y selecciona un elemento como pivote el primer elemento \n",
        "    de la lista. La función devuelve los siguientes datos:\n",
        "    - una lista con los elementos menores que el pivote\n",
        "    - el pivote (primer elemento)\n",
        "    - una lista formada con los elementos de la lista mayores que el pivote\"\"\"\n",
        "    \n",
        "    # seleccionamos el pivote\n",
        "    \n",
        "    a[0],a[len(a)//2] = a[len(a)//2], a[0]\n",
        "    \n",
        "    p = a[0]\n",
        "    smaller = []\n",
        "    bigger = []\n",
        "    for i in range(1, len(a)):\n",
        "        if a[i] <= p:\n",
        "            smaller.append(a[i])\n",
        "        else:\n",
        "            bigger.append(a[i])\n",
        "    \n",
        "    return (smaller, p, bigger)\n",
        "\n",
        "def quicksort(a: list) -> list:\n",
        "    if a is None or len(a) <= 1:\n",
        "        return a\n",
        "\n",
        "    list_smaller, pivote, list_bigger = partitions(a)\n",
        "    return quicksort(list_smaller) + [pivote] + quicksort(list_bigger)"
      ],
      "metadata": {
        "id": "y1cNTIQTnIs6"
      },
      "execution_count": 33,
      "outputs": []
    },
    {
      "cell_type": "markdown",
      "source": [
        "El siguiente código te ayudará a probar la función. Puedes ejecutarlo varias veces para probar con tamaños distintos y valores distintos en la lista de entrada:"
      ],
      "metadata": {
        "id": "P2HAk4_tXFL9"
      }
    },
    {
      "cell_type": "code",
      "source": [
        "import random\n",
        "import copy\n",
        "a = []\n",
        "n = random.randint(1, 10)\n",
        "for _ in range(n):\n",
        "    x = random.randint(-5,10)\n",
        "    a.append(x)\n",
        "# creamos una copia por valor de a (no se almacena en la misma dirección)\n",
        "\n",
        "print(\"before: \", a, end = ' ')\n",
        "\n",
        "print(\", after sorting: \", quicksort(a))\n",
        "# it should be True. If it is False, this means that there is a bug in our code\n",
        "assert quicksort(a) == sorted(a)\n"
      ],
      "metadata": {
        "colab": {
          "base_uri": "https://localhost:8080/"
        },
        "id": "upOQsqxrozI0",
        "outputId": "52801445-cd79-44f2-f9d1-7ef5fee8a87d"
      },
      "execution_count": 34,
      "outputs": [
        {
          "output_type": "stream",
          "name": "stdout",
          "text": [
            "before:  [-5, -4, 1, 8] , after sorting:  [-5, -4, 1, 8]\n"
          ]
        }
      ]
    },
    {
      "cell_type": "markdown",
      "source": [
        "## Quicksoft (listas auxiliares y último elemento como pivote)\n",
        "\n",
        "Implementa el algoritmo quicksort basado en la elección el **último elemento** de la lista como pivote. \n",
        "\n",
        "La siguiente implementación es muy parecida a la anterior, simplemente el pivote ahora es el último elemento de la lista. "
      ],
      "metadata": {
        "id": "SZsT1B85p0_5"
      }
    },
    {
      "cell_type": "code",
      "source": [
        "def partitions(a: list) -> (list, int, list):\n",
        "    \"\"\" recibe una lista y selecciona un elemento como pivote\n",
        "    (en este caso, se elige el último elemento como pivote. La función devuelve los \n",
        "    siguientes datos:\n",
        "    - una lista con los elementos menores que el pivote\n",
        "    - el pivote (último elemento)\n",
        "    - una lista formada con los elementos de la lista mayores que el pivote\"\"\"\n",
        "    \n",
        "    # seleccionamos el pivote\n",
        "    p = a[-1]\n",
        "    smaller = []\n",
        "    bigger = []\n",
        "    for i in range(len(a)-1):\n",
        "        if a[i] <= p:\n",
        "            smaller.append(a[i])\n",
        "        else:\n",
        "            bigger.append(a[i])\n",
        "    \n",
        "    return (smaller, p, bigger)\n",
        "\n",
        "def quicksort(a: list) -> list:\n",
        "    if a is None or len(a) <= 1:\n",
        "        return a\n",
        "\n",
        "    list_smaller, pivote, list_bigger = partitions(a)\n",
        "    return quicksort(list_smaller) + [pivote] + quicksort(list_bigger)"
      ],
      "metadata": {
        "id": "vjJ7y0YxqKJy"
      },
      "execution_count": 35,
      "outputs": []
    },
    {
      "cell_type": "markdown",
      "source": [
        "El siguiente código crea un array de forma aleatoria. Ejecutálo varias veces para probarlo con distintas listas de distinto tamaño:"
      ],
      "metadata": {
        "id": "bCuuSUE7qbMw"
      }
    },
    {
      "cell_type": "code",
      "source": [
        "a = []\n",
        "n = random.randint(1, 10)\n",
        "for _ in range(n):\n",
        "    x = random.randint(-5,10)\n",
        "    a.append(x)\n",
        "# creamos una copia por valor de a (no se almacena en la misma dirección)\n",
        "\n",
        "print(\"before: \", a, end = ' ')\n",
        "\n",
        "print(\", after sorting: \", quicksort(a))\n",
        "# it should be True. If it is False, this means that there is a bug in our code\n",
        "assert quicksort(a) == sorted(a)\n"
      ],
      "metadata": {
        "colab": {
          "base_uri": "https://localhost:8080/"
        },
        "id": "YLBWgSkKrhkR",
        "outputId": "de72fc2d-7555-4ef6-bd89-a2010ff8c303"
      },
      "execution_count": 36,
      "outputs": [
        {
          "output_type": "stream",
          "name": "stdout",
          "text": [
            "before:  [4, 9, 3, 10] , after sorting:  [3, 4, 9, 10]\n"
          ]
        }
      ]
    },
    {
      "cell_type": "markdown",
      "source": [
        "## Quicksoft (listas auxiliares y pivote aleatorio)\n",
        "Sería posible implementar otras versiones donde el pivote se eliga al azar, y una vez elegido se mueva a la primera o última posición, para proceder como en las versiones anteriores:\n"
      ],
      "metadata": {
        "id": "iYMoLFz-Xcmt"
      }
    },
    {
      "cell_type": "code",
      "source": [
        "import random\n",
        "\n",
        "def partitions(a: list) -> (list, int, list):\n",
        "    \"\"\" recibe una lista y selecciona de forma aleatoria el pivote.\n",
        "    La función devuelve los siguientes datos:\n",
        "    - una lista con los elementos menores que el pivote\n",
        "    - el pivote (último elemento)\n",
        "    - una lista formada con los elementos de la lista mayores que el pivote\"\"\"\n",
        "    \n",
        "    # seleccionamos el pivote\n",
        "    index_p = random.randint(0,len(a)-1)\n",
        "    p = a[index_p]\n",
        "    # intercambiamos el pivote con el último elemento\n",
        "    a[index_p], a[-1] = a[-1], a[index_p]\n",
        "    # ahora el pivote es el último elemento\n",
        "    smaller = []\n",
        "    bigger = []\n",
        "    for i in range(len(a)-1):\n",
        "        if a[i] <= p:\n",
        "            smaller.append(a[i])\n",
        "        else:\n",
        "            bigger.append(a[i])\n",
        "    \n",
        "    return (smaller, p, bigger)\n",
        "\n",
        "def quicksort(a: list) -> list:\n",
        "    if a is None or len(a) <= 1:\n",
        "        return a\n",
        "\n",
        "    list_smaller, pivote, list_bigger = partitions(a)\n",
        "    return quicksort(list_smaller) + [pivote] + quicksort(list_bigger)"
      ],
      "metadata": {
        "id": "7g7KKVCRXlgk"
      },
      "execution_count": 37,
      "outputs": []
    },
    {
      "cell_type": "markdown",
      "source": [
        "Probamos esta implementación basada en listas auxiliares y pivote aleatorio:"
      ],
      "metadata": {
        "id": "9XPFjjVUYi1c"
      }
    },
    {
      "cell_type": "code",
      "source": [
        "a = []\n",
        "n = random.randint(1, 10)\n",
        "for _ in range(n):\n",
        "    x = random.randint(-5,10)\n",
        "    a.append(x)\n",
        "\n",
        "print(\"before: \", a, end = ' ')\n",
        "print(\", after sorting: \", quicksort(a))\n",
        "# it should be True. If it is False, this means that there is a bug in our code\n",
        "assert quicksort(a) == sorted(a)"
      ],
      "metadata": {
        "colab": {
          "base_uri": "https://localhost:8080/"
        },
        "id": "-i7Ik6ORYiG3",
        "outputId": "90423be5-5d68-49dd-9130-a9e5ae8ff9f8"
      },
      "execution_count": 38,
      "outputs": [
        {
          "output_type": "stream",
          "name": "stdout",
          "text": [
            "before:  [5, 6, 5] , after sorting:  [5, 5, 6]\n"
          ]
        }
      ]
    },
    {
      "cell_type": "markdown",
      "source": [
        "## Quicksort con menor complejidad espacial (sin usar listas auxiliares)\n",
        "\n",
        "Las dos implementaciones anteriores utilizan listas auxiliares para almacenar las particiones (los elementos menores y mayores del pivote). Es posible proponer implementaciones con una menor complejidad espacial (es decir, sin la necesidad de usar listas auxiliares para almacenar las particiones). En su lugar, usaremos índices que indique el inicio y final de la partición a ordenar. \n",
        "\n",
        "A continuación, veremos una implementación (sin listas auxiliares) que selecciona el último elemento como pivote:"
      ],
      "metadata": {
        "id": "fY0wJ18nY7_B"
      }
    },
    {
      "cell_type": "markdown",
      "source": [
        "\n",
        "\n",
        "### Quicksort (último elemento pivote)"
      ],
      "metadata": {
        "id": "kkv9wg7NqmGj"
      }
    },
    {
      "cell_type": "code",
      "execution_count": 39,
      "metadata": {
        "id": "UzjRr8mF8c6_"
      },
      "outputs": [],
      "source": [
        "def quicksort(a: list) -> None:\n",
        "    \"\"\"la función ordena los elementos de la lista a de menor a mayor.\n",
        "    No devuelve una nueva lista, simplemente ordena a.\"\"\"\n",
        "    if a is None or len(a)<=1:\n",
        "        # a is already sorted!!!        \n",
        "        return\n",
        "    _quicksort(a, 0, len(a)-1)\n",
        "\n",
        "def _quicksort(a: list, start: int, end: int) -> None:\n",
        "    \"\"\"La función ordena la sublista de a comprendida entre los indices start y end, ambos inclusives\"\"\"\n",
        "   \n",
        "    # primer paso, elegir el último elemento como pivote\n",
        "    piv = a[end]\n",
        "    # creamos dos índices\n",
        "    # el índice i va a recorrer la lista (partición) desde start, y su objetivo\n",
        "    # es avanzar mientras que los elementos sean menores que el pivote\n",
        "    # el índice j va a recorrer la partición desde end hacia la izquierda, y su \n",
        "    # objetivo es avanzar (hacia start) mientras que los elementos sean mayores que \n",
        "    # el pivote\n",
        "    i, j = start, end - 1\n",
        "\n",
        "    while i <= j:\n",
        "        # paramos de avanzar i, cuando encontramos un elemento a[i]>=p \n",
        "        while a[i] < piv:\n",
        "            i += 1\n",
        "        # paramos de disminuir j, cuando encontramos un elemento a[j]<=p \n",
        "        while a[j] > piv:\n",
        "            j -= 1\n",
        "\n",
        "        if i < j:\n",
        "            # intercambiamos a[i], a[j]\n",
        "            a[i], a[j] = a[j], a[i]\n",
        "        if i <= j:    \n",
        "            # avanzamos índices\n",
        "            i += 1\n",
        "            j -= 1\n",
        "\n",
        "    # Cuando termina el bucle, los elementos más pequeños al pivote estarán situados\n",
        "    # en la izquierda de la partición, mientras los elementos mayores al pivote\n",
        "    # estarán situados a la derecha. Debemos colocar el pivote, en la posición i, que es la \n",
        "    # posición que separá ambas partes. El elemento en i será mayor que el pivote, y por tanto\n",
        "    # podemos moverlo a la parte derecha de la partición\n",
        "    a[end], a[i] = a[i], a[end]\n",
        "\n",
        "    # Aplicamos recursión sobre cada partición (si al menos tienen un elemento)\n",
        "    if i-1 > start: \n",
        "        _quicksort(a, start, i-1)\n",
        "    if i+1 < end:\n",
        "        _quicksort(a, i+1, end)\n",
        "\n"
      ]
    },
    {
      "cell_type": "markdown",
      "source": [
        "Ejecuta el siguiente código varias veces para comprobar que el algoritmo funciona correctamente para distintos tamaños y valores en la lista:"
      ],
      "metadata": {
        "id": "RE0A99YfbnN3"
      }
    },
    {
      "cell_type": "code",
      "source": [
        "import copy\n",
        "# a = [0, -7, -10, -7]\n",
        "# a = [-3, 4, -5, -2, -2]\n",
        "\n",
        "a = []\n",
        "n = random.randint(1, 10)\n",
        "for _ in range(n):\n",
        "    x = random.randint(-5,10)\n",
        "    a.append(x)\n",
        "\n",
        "# aux es una copia de a, pero no tienen la misma dirección de memoria\n",
        "aux = copy.deepcopy(a)\n",
        "\n",
        "print(\"before: \", a, end = \" \")\n",
        "quicksort(a)\n",
        "print(\", after: \", a)\n",
        "\n",
        "# Siempre deben ser iguales. Si no son iguales, significa que nuestra\n",
        "# implementación tiene algún error\n",
        "assert a == sorted(aux)\n"
      ],
      "metadata": {
        "id": "Kn-7Ow6PFF2r",
        "colab": {
          "base_uri": "https://localhost:8080/"
        },
        "outputId": "9fd9a887-815d-4e70-8a94-08a29ea7b578"
      },
      "execution_count": 40,
      "outputs": [
        {
          "output_type": "stream",
          "name": "stdout",
          "text": [
            "before:  [-2] , after:  [-2]\n"
          ]
        }
      ]
    },
    {
      "cell_type": "markdown",
      "source": [
        "### Quicksort (elemento central pivote)"
      ],
      "metadata": {
        "id": "-AIqOhAjxEe2"
      }
    },
    {
      "cell_type": "code",
      "source": [
        "def quicksort(a: list) -> None:\n",
        "    if a is None or len(a)<=1:\n",
        "        # a is already sorted!!!        \n",
        "        return\n",
        "    _quicksort(a, 0, len(a)-1)\n",
        "def _quicksort(a: list, start: int, end: int) -> None:\n",
        "    \"\"\"La función ordena la sublista de a comprendida entre los indices start y end, ambos inclusives\"\"\"\n",
        "    # primer paso, elegir el elemento central como pivote\n",
        "    m = (start + end) // 2\n",
        "    piv = a[m]\n",
        "    # creamos dos índices\n",
        "    i, j = start, end\n",
        "    while i <= j:\n",
        "        while a[i] < piv:\n",
        "            i += 1\n",
        "        while a[j] > piv:\n",
        "            j -= 1\n",
        "\n",
        "        if i < j:\n",
        "            # intercambiamos a[i], a[j]\n",
        "            a[i], a[j] = a[j], a[i]\n",
        "        if i <= j:\n",
        "            # avanzamos índices\n",
        "            i = i + 1\n",
        "            j = j - 1\n",
        "    # Aplicamos recursión sobre cada partición\n",
        "    if start < j:\n",
        "        _quicksort(a, start, j)\n",
        "    if end > i:\n",
        "        _quicksort(a, i, end)\n"
      ],
      "metadata": {
        "id": "ICCmLa0GxKTA"
      },
      "execution_count": 41,
      "outputs": []
    },
    {
      "cell_type": "markdown",
      "source": [
        "Vamos a probar esta nueva implementación (recuerda ejecutar varias veces)"
      ],
      "metadata": {
        "id": "xyGFA5Ibc2jh"
      }
    },
    {
      "cell_type": "code",
      "source": [
        "# \n",
        "# a = [-3, 4, -5, -2, -2]\n",
        "# a = [0, -7, -10, -7]\n",
        "\n",
        "a = []\n",
        "n = random.randint(1, 10)\n",
        "for _ in range(n):\n",
        "    x = random.randint(-5,10)\n",
        "    a.append(x)\n",
        "\n",
        "# aux es una copia de a, pero no tienen la misma dirección de memoria\n",
        "aux = copy.deepcopy(a)\n",
        "print(\"before: \", a, end = \" \")\n",
        "quicksort(a)\n",
        "print(\", after: \", a)\n",
        "# Siempre debe ser True. En otro caso, tenemos algún fallo. \n",
        "assert a == sorted(aux)"
      ],
      "metadata": {
        "colab": {
          "base_uri": "https://localhost:8080/"
        },
        "id": "Erz4aOs7xiqP",
        "outputId": "0816179f-ea4d-4add-f0d9-6c00eab03354"
      },
      "execution_count": 42,
      "outputs": [
        {
          "output_type": "stream",
          "name": "stdout",
          "text": [
            "before:  [-5, 6, -3, 9, 7] , after:  [-5, -3, 6, 7, 9]\n"
          ]
        }
      ]
    },
    {
      "cell_type": "markdown",
      "source": [
        "## Quicksort (random pivote)\n",
        "Esta implementación es muy similar a la anterior, pero la principal diferencia es que vamos a seleccionar el pivote de forma aleatoria"
      ],
      "metadata": {
        "id": "YEEIJhM_FOVG"
      }
    },
    {
      "cell_type": "code",
      "source": [
        "import random\n",
        "\n",
        "def quicksort(a: list) -> None:\n",
        "    if a is None or len(a)==0:\n",
        "        return\n",
        "    _quicksort(a, 0, len(a)-1)\n",
        "\n",
        "def _quicksort(a: list, start: int, end: int) -> None:\n",
        "    \"\"\"La función ordena la sublista de a comprendida entre los indices start y end, ambos inclusives\"\"\"\n",
        "    # elegimos un índice de start and end, de forma aleatoria\n",
        "    index_pivote = random.randint(start, end) # start and end, both included\n",
        "    piv = a[index_pivote]\n",
        "    # print('pivote seleccionado ', index_pivote, piv)\n",
        "\n",
        "    # movemos el pivote a la posición end del array \n",
        "    a[index_pivote], a[end] = a[end], a[index_pivote]\n",
        "    # ahora el pivote está al final de la partición\n",
        "\n",
        "    i, j = start, end - 1\n",
        "\n",
        "    while i <= j:\n",
        "        while a[i] < piv:\n",
        "            i += 1\n",
        "        while a[j] > piv:\n",
        "            j -= 1\n",
        "\n",
        "        if i < j:\n",
        "            # intercambiamos a[i], a[j]\n",
        "            a[i], a[j] = a[j], a[i]\n",
        "        if i <= j:\n",
        "            # avanzamos índices\n",
        "            i += 1\n",
        "            j -= 1\n",
        "\n",
        "    # finalmente, intercambiamos el pivote a la posición i,\n",
        "    # que es la que separa los elementos menores a la izquierda\n",
        "    # y los elementos mayores a la derecha\n",
        "    a[end], a[i] = a[i], a[end]\n",
        "\n",
        "    # Aplicamos recursión sobre las particiones (cuando no estén vacías)\n",
        "    if start < i-1:\n",
        "        _quicksort(a, start, i-1)\n",
        "    if i+1 < end:\n",
        "        _quicksort(a, i+1, end)\n",
        "\n",
        "\n"
      ],
      "metadata": {
        "id": "VTtbIAnKFWx9"
      },
      "execution_count": 43,
      "outputs": []
    },
    {
      "cell_type": "markdown",
      "source": [
        "Ejecutamos varias veces para probar con distintos tamaños y valores:"
      ],
      "metadata": {
        "id": "YYfNYm_ydvBA"
      }
    },
    {
      "cell_type": "code",
      "source": [
        "a = []\n",
        "n = random.randint(1,7)\n",
        "for _ in range(n):\n",
        "    a.append( random.randint(-10,10))\n",
        "\n",
        "# aux es una copia de a, pero no tienen la misma dirección de memoria\n",
        "aux = copy.deepcopy(a)\n",
        "\n",
        "print(\"before: \", a, end = \" \")\n",
        "quicksort(a)\n",
        "print(\", after: \", a)\n",
        "\n",
        "assert a == sorted(aux)\n"
      ],
      "metadata": {
        "colab": {
          "base_uri": "https://localhost:8080/"
        },
        "id": "YyHLJ362GI_P",
        "outputId": "bca432fc-4395-47f3-d8df-4ea127d7ca8f"
      },
      "execution_count": 44,
      "outputs": [
        {
          "output_type": "stream",
          "name": "stdout",
          "text": [
            "before:  [-3, -8, -7, -2, -4, -8] , after:  [-8, -8, -7, -4, -3, -2]\n"
          ]
        }
      ]
    },
    {
      "cell_type": "markdown",
      "source": [
        "Esta última implementación muestra otra posible forma de codificar quicksort con pivote aleatorio:"
      ],
      "metadata": {
        "id": "bo9qx3lNi1z1"
      }
    },
    {
      "cell_type": "code",
      "source": [
        "def quicksortRand(A):\n",
        "    _quicksortRand(A,0,len(A)-1)\n",
        "    \n",
        "def _quicksortRand(A, left, right):\n",
        "    \n",
        "    i,j=left,right\n",
        "    p = A[random.randint(left,right)] # pivot is random element\n",
        "    \n",
        "    while i <= j:\n",
        "        while A[i] < p: \n",
        "          i += 1\n",
        "        while A[j] > p: \n",
        "          j -= 1\n",
        "        if i < j: # swap \n",
        "            A[i], A[j] = A[j], A[i]\n",
        "        if i <= j:\n",
        "            i += 1\n",
        "            j -= 1\n",
        "\n",
        "    if left < j: # sort left list\n",
        "        _quicksortRand(A, left, j)\n",
        "    if i < right: # sort right list\n",
        "        _quicksortRand(A, i, right)"
      ],
      "metadata": {
        "id": "JXU4GJEEjUPa"
      },
      "execution_count": 45,
      "outputs": []
    },
    {
      "cell_type": "code",
      "source": [
        "a = []\n",
        "n = random.randint(1,7)\n",
        "for _ in range(n):\n",
        "    a.append( random.randint(-10,10))\n",
        "\n",
        "# aux es una copia de a, pero no tienen la misma dirección de memoria\n",
        "aux = copy.deepcopy(a)\n",
        "\n",
        "print(\"before: \", a, end = \" \")\n",
        "quicksortRand(a)\n",
        "print(\", after: \", a)\n",
        "\n",
        "assert a == sorted(aux)\n"
      ],
      "metadata": {
        "colab": {
          "base_uri": "https://localhost:8080/"
        },
        "id": "x_oR-sYtjY4o",
        "outputId": "4dca1e56-4a09-41e4-86a8-30da26898bf3"
      },
      "execution_count": 46,
      "outputs": [
        {
          "output_type": "stream",
          "name": "stdout",
          "text": [
            "before:  [-8, 4, 0, -5] , after:  [-8, -5, 0, 4]\n"
          ]
        }
      ]
    },
    {
      "cell_type": "markdown",
      "source": [
        "Y otra posible implementación más:"
      ],
      "metadata": {
        "id": "0xV7ph86jmhz"
      }
    },
    {
      "cell_type": "code",
      "source": [
        "# Python implementation QuickSort using  \n",
        "# Lomuto's partition Scheme. \n",
        "import random \n",
        "  \n",
        "''' \n",
        "The function which implements QuickSort. \n",
        "arr :- array to be sorted. \n",
        "start :- starting index of the array. \n",
        "stop :- ending index of the array. \n",
        "'''\n",
        "def quicksort(arr, start , stop): \n",
        "    if(start < stop): \n",
        "          \n",
        "        # pivotindex is the index where  \n",
        "        # the pivot lies in the array \n",
        "        pivotindex = partitionrand(arr, start, stop) \n",
        "          \n",
        "        # At this stage the array is partially sorted  \n",
        "        # around the pivot. Separately sorting the  \n",
        "        # left half of the array and the right half of the array. \n",
        "        quicksort(arr , start , pivotindex - 1) \n",
        "        quicksort(arr, pivotindex + 1, stop) \n",
        "  \n",
        "# This function generates random pivot, swaps the first \n",
        "# element with the pivot and calls the partition fucntion. \n",
        "def partitionrand(arr , start, stop): \n",
        "  \n",
        "    # Generating a random number between the  \n",
        "    # starting index of the array and the \n",
        "    # ending index of the array. \n",
        "    randpivot = random.randrange(start, stop) \n",
        "  \n",
        "    # Swapping the starting element of the array and the pivot \n",
        "    arr[start], arr[randpivot] = arr[randpivot], arr[start] \n",
        "    return partition(arr, start, stop) \n",
        "  \n",
        "''' \n",
        "This function takes the first element as pivot,  \n",
        "places the pivot element at the correct position  \n",
        "in the sorted array. All the elements are re-arranged  \n",
        "according to the pivot, the elements smaller than the \n",
        "pivot is places on the left and the elements \n",
        "greater than the pivot is placed to the right of pivot. \n",
        "'''\n",
        "def partition(arr,start,stop): \n",
        "    pivot = start # pivot \n",
        "    i = start + 1 # a variable to memorize where the  \n",
        "                  # partition in the array starts from. \n",
        "    for j in range(start + 1, stop + 1): \n",
        "          \n",
        "        # if the current element is smaller or equal to pivot, \n",
        "        # shift it to the left side of the partition. \n",
        "        if arr[j] <= arr[pivot]: \n",
        "            arr[i] , arr[j] = arr[j] , arr[i] \n",
        "            i = i + 1\n",
        "    arr[pivot] , arr[i - 1] = arr[i - 1] , arr[pivot] \n",
        "    pivot = i - 1\n",
        "    return (pivot) \n",
        "  \n",
        "# Driver Code \n",
        "if __name__ == \"__main__\": \n",
        "    array = [10, 7, 8, 9, 1, 5] \n",
        "    quicksort(array, 0, len(array) - 1) \n",
        "    print(array) "
      ],
      "metadata": {
        "colab": {
          "base_uri": "https://localhost:8080/"
        },
        "id": "rWma1_n1i7Ja",
        "outputId": "1add3dea-6c35-4895-d9c1-04f50acee5a2"
      },
      "execution_count": 47,
      "outputs": [
        {
          "output_type": "stream",
          "name": "stdout",
          "text": [
            "[1, 5, 7, 8, 9, 10]\n"
          ]
        }
      ]
    },
    {
      "cell_type": "code",
      "source": [
        "a = []\n",
        "n = random.randint(1,7)\n",
        "for _ in range(n):\n",
        "    a.append( random.randint(-10,10))\n",
        "\n",
        "# aux es una copia de a, pero no tienen la misma dirección de memoria\n",
        "aux = copy.deepcopy(a)\n",
        "\n",
        "print(\"before: \", a, end = \" \")\n",
        "quicksort(a, 0, len(a)-1)\n",
        "print(\", after: \", a)\n",
        "\n",
        "assert a == sorted(aux)\n"
      ],
      "metadata": {
        "colab": {
          "base_uri": "https://localhost:8080/"
        },
        "id": "skEQNojmjCqD",
        "outputId": "98ff4d08-9e03-47eb-e5ac-5b00b8431f51"
      },
      "execution_count": 48,
      "outputs": [
        {
          "output_type": "stream",
          "name": "stdout",
          "text": [
            "before:  [0, 7] , after:  [0, 7]\n"
          ]
        }
      ]
    }
  ]
}