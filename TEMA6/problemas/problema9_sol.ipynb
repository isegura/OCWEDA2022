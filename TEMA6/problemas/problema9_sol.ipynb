{
  "nbformat": 4,
  "nbformat_minor": 0,
  "metadata": {
    "colab": {
      "provenance": []
    },
    "kernelspec": {
      "name": "python3",
      "display_name": "Python 3"
    },
    "language_info": {
      "name": "python"
    }
  },
  "cells": [
    {
      "cell_type": "markdown",
      "source": [
        "# Problemas 9: \n",
        "\n",
        "Este notebook contiene la solución explicada de \n",
        "\n",
        "Implementa un método, has_cycle, que comprueba si un grafo \n",
        " dirigido contiene un grafo. \n",
        "- Implementa una solución que utilice el algoritmo dfs (búsqueda en profundida). \n",
        "- Implementa una solución que utilice el algoritmo bfs (busquedaen amplitud).\n"
      ],
      "metadata": {
        "id": "eLtLXl9ASYap"
      }
    },
    {
      "cell_type": "markdown",
      "source": [
        "La clase AdjacentVertex representa una tupla donde el primer elemento es un vértice y el segundo el peso asociado. \n",
        "\n"
      ],
      "metadata": {
        "id": "EnK5TH-8XG-3"
      }
    },
    {
      "cell_type": "code",
      "source": [
        "class AdjacentVertex:\n",
        "    \"\"\" This class allows us to represent a tuple\n",
        "    with an adjacent vertex\n",
        "    and the weight associated (by default None, for non-unweighted graphs)\"\"\"\n",
        "    def __init__(self, vertex: object, weight: int = 1) -> None:\n",
        "        self.vertex = vertex\n",
        "        self.weight = weight\n",
        "\n",
        "    def __eq_(self, other: 'AdjacentVertex') -> bool:\n",
        "        if other is None: \n",
        "            return False\n",
        "        return self.vertex == other.vertex and self.weight == other.weight \n",
        "        \n",
        "    def __str__(self) -> str:\n",
        "        \"\"\" returns the tuple (vertex, weight)\"\"\"\n",
        "        if self.weight is not None:\n",
        "            return '(' + str(self.vertex) + ',' + str(self.weight) + ')'\n",
        "        return str(self.vertex)"
      ],
      "metadata": {
        "id": "UyHSIGv6XDZ6"
      },
      "execution_count": 6,
      "outputs": []
    },
    {
      "cell_type": "markdown",
      "source": [
        "Esta implementación es la de un grafo dirigido (prescindimos del atributo directed) y adaptamos el código en add_edge y remove_edge: "
      ],
      "metadata": {
        "id": "dTGu9zZQx6Y3"
      }
    },
    {
      "cell_type": "code",
      "execution_count": 7,
      "metadata": {
        "id": "c5Uw-OD9WsBf"
      },
      "outputs": [],
      "source": [
        "from queue import Queue\n",
        "\n",
        "class Graph:\n",
        "    def __init__(self, vertices: list) -> None:\n",
        "        \"\"\" We use a dictionary to represent the graph\n",
        "        the dictionary's keys are the vertices\n",
        "        The value associated for a given key will be the list of their neighbours.\n",
        "        Initially, the list of neighbours is empty\"\"\"\n",
        "        self._vertices = {}\n",
        "        for v in vertices:\n",
        "            self._vertices[v] = []\n",
        "\n",
        "    def add_vertex(self, vertex: str) -> None:\n",
        "        if vertex in self._vertices.keys():\n",
        "            print(vertex, ' already exists!')\n",
        "            return\n",
        "        self._vertices[vertex] = []\n",
        "\n",
        "    def add_edge(self, start: object, end: object, weight: int = 1) -> None:\n",
        "        if start not in self._vertices.keys():\n",
        "            print(start, ' does not exist!')\n",
        "            return\n",
        "        if end not in self._vertices.keys():\n",
        "            print(end, ' does not exist!')\n",
        "            return\n",
        "\n",
        "        # adds to the end of the list of neighbours for start\n",
        "        self._vertices[start].append(AdjacentVertex(end, weight))\n",
        "\n",
        "\n",
        "    def contain_edge(self, start: object, end: object) -> int:\n",
        "        \"\"\" checks if the edge (start, end) exits. It does\n",
        "        not exist return 0, eoc returns its weight or 1 (for unweighted graphs)\"\"\"\n",
        "        if start not in self._vertices.keys():\n",
        "            print(start, ' does not exist!')\n",
        "            return 0\n",
        "        if end not in self._vertices.keys():\n",
        "            print(end, ' does not exist!')\n",
        "            return 0\n",
        "\n",
        "        # we search the AdjacentVertex whose v is equal to end\n",
        "\n",
        "        for adj in self._vertices[start]:\n",
        "            if adj.vertex == end:\n",
        "                return adj.weight\n",
        "\n",
        "        return 0  # does not exist\n",
        "\n",
        "    def remove_edge(self, start: object, end: object):\n",
        "        \"\"\" removes the edge (start, end)\"\"\"\n",
        "        if start not in self._vertices.keys():\n",
        "            print(start, ' does not exist!')\n",
        "            return\n",
        "        if end not in self._vertices.keys():\n",
        "            print(end, ' does not exist!')\n",
        "            return\n",
        "\n",
        "        # we must look for the adjacent AdjacentVertex (neighbour)  whose vertex is end, and then remove it\n",
        "        exist = False\n",
        "        for adj in self._vertices[start]:\n",
        "            if adj.vertex == end:\n",
        "                exist = True\n",
        "                self._vertices[start].remove(adj)\n",
        "        \n",
        "\n",
        "        if not exist: \n",
        "            print(\"({},{}) does not exist!!!!\".format(start, end))\n",
        "\n",
        "\n",
        "    def __str__(self) -> str:\n",
        "        \"\"\" returns a string containing the graph\"\"\"\n",
        "        result = ''\n",
        "        for v in self._vertices:\n",
        "            result += '\\n'+str(v)+':'\n",
        "            for adj in self._vertices[v]:\n",
        "                result += str(adj)+\"  \"\n",
        "        result += '\\n'\n",
        "        return result\n",
        "\n",
        "    def get_adjacent_vertices(self, start: object) -> list:\n",
        "        \"\"\" returns a Python list containing the adjacent\n",
        "        vertices of vertex. The list only contains the vertices\"\"\"\n",
        "        if start not in self._vertices.keys():\n",
        "            print(start, ' does not exist!')\n",
        "            return None\n",
        "        \n",
        "        result = []\n",
        "        for adj in self._vertices[start]:\n",
        "            result.append(adj.vertex)\n",
        "        return result\n",
        "\n",
        "\n"
      ]
    },
    {
      "cell_type": "markdown",
      "source": [
        "Vamos a extender Graph para que contenga los recorridos dfs y bfs:"
      ],
      "metadata": {
        "id": "B8kq6BGyi5AC"
      }
    },
    {
      "cell_type": "code",
      "source": [
        "\n",
        "class Graph2(Graph):\n",
        "    def has_cycle_bfs(self) -> bool:\n",
        "        # we use a dictionary that saves the number of incoming edges for each vertex \n",
        "        in_degree=dict.fromkeys(self._vertices.keys(), 0)\n",
        "        # first, we update the dictionary for those vertices that are adjacent one to others. \n",
        "        for v in self._vertices.keys():\n",
        "            for u in self.get_adjacent_vertices(v):\n",
        "                in_degree[u] += 1 \n",
        " \n",
        "     \n",
        "        # We save int o queue those vertices with in-degree equal to 0, that is, those vertices that do not have any incoming edge\n",
        "        queue=[]\n",
        "        for v in self._vertices.keys():\n",
        "            if in_degree[v]==0:\n",
        "                queue.append(v)\n",
        "        \n",
        "        vertex_visited = 0\n",
        "        # while the queue has elements\n",
        "        while len(queue) > 0:\n",
        "            # increase the number of visited nodes\n",
        "            vertex_visited += 1\n",
        "            # get the first\n",
        "            u = queue.pop(0)\n",
        "            # visits its adjacent vertices\n",
        "            for v in self.get_adjacent_vertices(u):\n",
        "                in_degree[v] -= 1   \n",
        "                if in_degree[v] == 0:   # when it is 0, we have to add to queue to visit it\n",
        "                    queue.append(v)\n",
        "            \n",
        "        # Check if there was a cycle\n",
        "        \n",
        "        if vertex_visited==len(self._vertices.keys()):\n",
        "            return False\n",
        "        else:\n",
        "            return True\n",
        "\n",
        "\n",
        "    def has_cycle_dfs(self) -> bool:\n",
        "        visited = dict.fromkeys(self._vertices.keys(), False)\n",
        "        # save the vertices in the recursive calls\n",
        "        path_recursive = dict.fromkeys(self._vertices.keys(), False)\n",
        "\n",
        "        for v in self._vertices.keys():\n",
        "            if not visited[v]:\n",
        "                if self._has_cycle_dfs(v, visited, path_recursive):\n",
        "                    return True\n",
        "        return False\n",
        "\n",
        "    def _has_cycle_dfs(self, v: object, visited: dict, path_recursive: dict) -> bool:\n",
        "        # Mark current node as visited and\n",
        "        # adds to recursion stack\n",
        "        visited[v] = True\n",
        "        path_recursive[v] = True\n",
        " \n",
        "        \n",
        "        for u in self.get_adjacent_vertices(v):\n",
        "            if not visited[u]:\n",
        "                if self._has_cycle_dfs(u, visited, path_recursive):\n",
        "                    return True\n",
        "            elif path_recursive[u] == True:\n",
        "                # if u was already visited and also it belongs to the path_recursive, this means that there is a cycle\n",
        "                return True\n",
        " \n",
        "        # After visiting all its adjacent vertices, we must remove it from path_recursion\n",
        "        path_recursive[v] = False\n",
        "        return False\n"
      ],
      "metadata": {
        "id": "BUfH-hPri8v9"
      },
      "execution_count": 11,
      "outputs": []
    },
    {
      "cell_type": "markdown",
      "source": [
        "<img src='https://static.javatpoint.com/ds/images/breadth-first-search-algorithm-example.png' widht='300'>"
      ],
      "metadata": {
        "id": "ay3PajpEnUlm"
      }
    },
    {
      "cell_type": "code",
      "source": [
        "labels = ['A', 'B', 'C', 'D', 'E', 'F', 'G']\n",
        "g = Graph2(labels)\n",
        "\n",
        "g.add_edge('A','B')\n",
        "g.add_edge('A','D')\n",
        "\n",
        "g.add_edge('B','C')\n",
        "g.add_edge('B','F')\n",
        "\n",
        "g.add_edge('C','E')\n",
        "g.add_edge('C','G')\n",
        "\n",
        "g.add_edge('D','F')\n",
        "\n",
        "g.add_edge('E','F')\n",
        "g.add_edge('E','B')\n",
        "\n",
        "g.add_edge('F','A')\n",
        "\n",
        "g.add_edge('G','E')\n",
        "\n",
        "g.has_cycle_bfs()\n"
      ],
      "metadata": {
        "colab": {
          "base_uri": "https://localhost:8080/"
        },
        "id": "ohfBvbLoncwq",
        "outputId": "fccba65d-0013-4569-d2c0-28ecfba8ba85"
      },
      "execution_count": 12,
      "outputs": [
        {
          "output_type": "execute_result",
          "data": {
            "text/plain": [
              "True"
            ]
          },
          "metadata": {},
          "execution_count": 12
        }
      ]
    },
    {
      "cell_type": "markdown",
      "source": [
        "## Problema:\n",
        "En el grafo anterior, elimina las aristas necesarias para que no haya ningún ciclo, y comprueba el método. "
      ],
      "metadata": {
        "id": "7a063lth07F3"
      }
    }
  ]
}