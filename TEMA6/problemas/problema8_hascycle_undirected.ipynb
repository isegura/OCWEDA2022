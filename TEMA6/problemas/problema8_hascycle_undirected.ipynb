{
  "nbformat": 4,
  "nbformat_minor": 0,
  "metadata": {
    "colab": {
      "provenance": []
    },
    "kernelspec": {
      "name": "python3",
      "display_name": "Python 3"
    },
    "language_info": {
      "name": "python"
    }
  },
  "cells": [
    {
      "cell_type": "markdown",
      "source": [
        "# Problemas 8 y 9: \n",
        "\n",
        "Este notebook contiene la solución explicada de \n",
        "\n",
        "Dado un grafo no dirigido, implementa un método, has_cycle, que comprueba si el grafo tiene un ciclo o no. Es decir, el método devolverá True si se encuentra algún ciclo, y False eoc. \n",
        "\n",
        "Para detectar si hay algún ciclo, debemos recorrer el grafo desde cada vértice. Para ello podemos emplear o bien el recorrido dfs o bien el recorrido bfs. \n",
        "\n",
        "Un grafo no dirigido tien un ciclo únicamente si existe un loop (es decir, una arista que conecta un vértice consigo mismo), o bien, un vértice es conectado con alguno de sus antecesores en el recorrido. \n",
        "\n",
        "\n"
      ],
      "metadata": {
        "id": "eLtLXl9ASYap"
      }
    },
    {
      "cell_type": "markdown",
      "source": [
        "La clase AdjacentVertex representa una tupla donde el primer elemento es un vértice y el segundo el peso asociado. \n",
        "\n"
      ],
      "metadata": {
        "id": "EnK5TH-8XG-3"
      }
    },
    {
      "cell_type": "code",
      "source": [
        "class AdjacentVertex:\n",
        "    \"\"\" This class allows us to represent a tuple\n",
        "    with an adjacent vertex\n",
        "    and the weight associated (by default None, for non-unweighted graphs)\"\"\"\n",
        "    def __init__(self, vertex: object, weight: int = 1) -> None:\n",
        "        self.vertex = vertex\n",
        "        self.weight = weight\n",
        "\n",
        "    def __eq_(self, other: 'AdjacentVertex') -> bool:\n",
        "        if other is None: \n",
        "            return False\n",
        "        return self.vertex == other.vertex and self.weight == other.weight \n",
        "        \n",
        "    def __str__(self) -> str:\n",
        "        \"\"\" returns the tuple (vertex, weight)\"\"\"\n",
        "        if self.weight is not None:\n",
        "            return '(' + str(self.vertex) + ',' + str(self.weight) + ')'\n",
        "        else:\n",
        "            return str(self.vertex)"
      ],
      "metadata": {
        "id": "UyHSIGv6XDZ6"
      },
      "execution_count": 37,
      "outputs": []
    },
    {
      "cell_type": "markdown",
      "source": [
        "En la siguiente implementación, prescindimos del atributo directed, porque el grafo siemepre va a ser no dirigido."
      ],
      "metadata": {
        "id": "Ag8KlfhSpCUP"
      }
    },
    {
      "cell_type": "code",
      "execution_count": 38,
      "metadata": {
        "id": "c5Uw-OD9WsBf"
      },
      "outputs": [],
      "source": [
        "from queue import Queue\n",
        "\n",
        "class Graph:\n",
        "    def __init__(self, vertices: list) -> None:\n",
        "        \"\"\" Undirected graph\"\"\"\n",
        "        self._vertices = {}\n",
        "        for v in vertices:\n",
        "            self._vertices[v] = []\n",
        "\n",
        "    def add_vertex(self, vertex: str) -> None:\n",
        "        if vertex in self._vertices.keys():\n",
        "            print(vertex, ' already exists!')\n",
        "            return\n",
        "        self._vertices[vertex] = []\n",
        "\n",
        "    def add_edge(self, start: object, end: object, weight: int = 1) -> None:\n",
        "        if start not in self._vertices.keys():\n",
        "            print(start, ' does not exist!')\n",
        "            return\n",
        "        if end not in self._vertices.keys():\n",
        "            print(end, ' does not exist!')\n",
        "            return\n",
        "\n",
        "        # adds to the end of the list of neighbours for start\n",
        "        self._vertices[start].append(AdjacentVertex(end, weight))\n",
        "        # As the graph is undirecgted, we must also add the edge from end to start\n",
        "        self._vertices[end].append(AdjacentVertex(start, weight))\n",
        "\n",
        "    def contain_edge(self, start: object, end: object) -> int:\n",
        "        \"\"\" checks if the edge (start, end) exits. It does\n",
        "        not exist return 0, eoc returns its weight or 1 (for unweighted graphs)\"\"\"\n",
        "        if start not in self._vertices.keys():\n",
        "            print(start, ' does not exist!')\n",
        "            return 0\n",
        "        if end not in self._vertices.keys():\n",
        "            print(end, ' does not exist!')\n",
        "            return 0\n",
        "\n",
        "        # we search the AdjacentVertex whose v is equal to end\n",
        "\n",
        "        for adj in self._vertices[start]:\n",
        "            if adj.vertex == end:\n",
        "                return adj.weight\n",
        "\n",
        "        return 0  # does not exist\n",
        "\n",
        "    def remove_edge(self, start: object, end: object):\n",
        "        \"\"\" removes the edge (start, end)\"\"\"\n",
        "        if start not in self._vertices.keys():\n",
        "            print(start, ' does not exist!')\n",
        "            return\n",
        "        if end not in self._vertices.keys():\n",
        "            print(end, ' does not exist!')\n",
        "            return\n",
        "\n",
        "        # we must look for the adjacent AdjacentVertex (neighbour)  whose vertex is end, and then remove it\n",
        "        exist = False\n",
        "        for adj in self._vertices[start]:\n",
        "            if adj.vertex == end:\n",
        "                exist = True\n",
        "                self._vertices[start].remove(adj)\n",
        "\n",
        "        # As the graph is undirected, we must also remove the edge form end to start\n",
        "        for adj in self._vertices[end]:\n",
        "            if adj.vertex == start:\n",
        "                self._vertices[end].remove(adj)\n",
        "\n",
        "        if not exist: \n",
        "            print(\"({},{}) does not exist!!!!\".format(start, end))\n",
        "\n",
        "\n",
        "    def __str__(self) -> str:\n",
        "        \"\"\" returns a string containing the graph\"\"\"\n",
        "        result = ''\n",
        "        for v in self._vertices:\n",
        "            result += '\\n'+str(v)+':'\n",
        "            for adj in self._vertices[v]:\n",
        "                result += str(adj)+\"  \"\n",
        "        result += '\\n'\n",
        "        return result\n",
        "\n",
        "    def get_adjacent_vertices(self, start: object) -> list:\n",
        "        \"\"\" returns a Python list containing the adjacent\n",
        "        vertices of vertex. The list only contains the vertices\"\"\"\n",
        "        if start not in self._vertices.keys():\n",
        "            print(start, ' does not exist!')\n",
        "            return None\n",
        "        \n",
        "        result = []\n",
        "        for adj in self._vertices[start]:\n",
        "            result.append(adj.vertex)\n",
        "        return result\n",
        "\n",
        "\n"
      ]
    },
    {
      "cell_type": "markdown",
      "source": [
        "Vamos a implementar el método has_cycle usando el recorrido en profundidad (recursivo)"
      ],
      "metadata": {
        "id": "B8kq6BGyi5AC"
      }
    },
    {
      "cell_type": "code",
      "source": [
        "\n",
        "class Graph2(Graph):\n",
        "\n",
        "    def has_cycle_dfs(self) -> bool:\n",
        " \n",
        "        visited = dict.fromkeys(self._vertices.keys(), False)\n",
        " \n",
        "        for v in self._vertices.keys():\n",
        "            if not visited[v]:\n",
        "                if self._has_cycle_dfs(v, visited, None):\n",
        "                    return True\n",
        " \n",
        "        return False\n",
        "        \n",
        "    def _has_cycle_dfs(self, v: object, visited: dict, parent: object) -> bool:\n",
        "        visited[v] = True\n",
        "        for u in self.get_adjacent_vertices(v):\n",
        "            if not visited[u]:\n",
        "                if self._has_cycle_dfs(u, visited, v):\n",
        "                    return True\n",
        "            else:\n",
        "                # If the graph does not have any cycle and u has been already visited, this means that v should come from u\n",
        "                # Eoc, there is a cycle\n",
        "                if parent != u:\n",
        "                    return True\n",
        "        return False\n",
        "\n",
        "    def has_cycle_bfs(self) -> bool:\n",
        " \n",
        "        visited = dict.fromkeys(self._vertices.keys(), False)\n",
        "        parents = dict.fromkeys(self._vertices.keys(), None)\n",
        "\n",
        "        # get the first vertext that was saved into the graph\n",
        "        start = list(self._vertices.keys())[0]\n",
        "\n",
        "        queue=[start]   #we will use a list as a queue\n",
        "        # while queue is not empy\n",
        "        while len(queue)>0:\n",
        "            v = queue.pop(0)    # we get the first element from the queue\n",
        "            visited[v] = True\n",
        "            # we gest is adjacent vertices\n",
        "            for u in self.get_adjacent_vertices(v):\n",
        "                if not visited[u]:\n",
        "                    queue.append(u) # we add it to the queue\n",
        "                    parents[u] = v  # we save its parent\n",
        "                else:\n",
        "                    # u has been already visited!!!. In a graph without any cycle, \n",
        "                    # this means that there is an edge from u <-> v, that was already visited, that is, parent[v] should be u\n",
        "                    # Eoc, this means that there is a graph\n",
        "                    if parents[v] != u:\n",
        "                        return True\n",
        "        \n",
        "        return False\n",
        "        "
      ],
      "metadata": {
        "id": "BUfH-hPri8v9"
      },
      "execution_count": 39,
      "outputs": []
    },
    {
      "cell_type": "markdown",
      "source": [
        "Si dado un vértice v, existe un adyacente u, que ya ha sido visitado, pero que su padre es distinto de v, entonces hay un ciclo. \n",
        "Si no existe ningún vértice con esas características decimos "
      ],
      "metadata": {
        "id": "UrHWhd7pv-pm"
      }
    },
    {
      "cell_type": "markdown",
      "source": [
        "<img src='https://upload.wikimedia.org/wikipedia/commons/thumb/3/3d/Undirected_graph.svg/462px-Undirected_graph.svg.png?20060311152740' width='300'>\n"
      ],
      "metadata": {
        "id": "rrSU0PqykFUH"
      }
    },
    {
      "cell_type": "code",
      "source": [
        "labels = [1, 2, 3, 4]\n",
        "g = Graph2(labels)\n",
        "\n",
        "g.add_edge(1,2)\n",
        "g.add_edge(1,3)\n",
        "g.add_edge(2,3)\n",
        "g.add_edge(3,4)\n",
        "# print(g)\n",
        "\n",
        "print(g)\n",
        "print(g.has_cycle_dfs())\n",
        "print(g.has_cycle_bfs())\n",
        "\n",
        "g.remove_edge(1,3)\n",
        "print(g)\n",
        "\n",
        "print(g.has_cycle_dfs())\n",
        "print(g.has_cycle_bfs())\n",
        "\n"
      ],
      "metadata": {
        "colab": {
          "base_uri": "https://localhost:8080/"
        },
        "id": "5RXD7Ts4j24I",
        "outputId": "87169a4a-e906-4302-ec36-0f830c78c3af"
      },
      "execution_count": 40,
      "outputs": [
        {
          "output_type": "stream",
          "name": "stdout",
          "text": [
            "\n",
            "1:(2,1)  (3,1)  \n",
            "2:(1,1)  (3,1)  \n",
            "3:(1,1)  (2,1)  (4,1)  \n",
            "4:(3,1)  \n",
            "\n",
            "True\n",
            "True\n",
            "\n",
            "1:(2,1)  \n",
            "2:(1,1)  (3,1)  \n",
            "3:(2,1)  (4,1)  \n",
            "4:(3,1)  \n",
            "\n",
            "False\n",
            "False\n"
          ]
        }
      ]
    }
  ]
}