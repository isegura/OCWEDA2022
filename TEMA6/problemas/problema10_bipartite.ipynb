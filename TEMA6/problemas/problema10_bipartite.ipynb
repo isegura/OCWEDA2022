{
  "nbformat": 4,
  "nbformat_minor": 0,
  "metadata": {
    "colab": {
      "provenance": [],
      "history_visible": true
    },
    "kernelspec": {
      "name": "python3",
      "display_name": "Python 3"
    },
    "language_info": {
      "name": "python"
    }
  },
  "cells": [
    {
      "cell_type": "markdown",
      "source": [
        "# Problema 10\n",
        "\n",
        "Este notebook contiene la solución explicada del p\n",
        "\n",
        "Implementa un método, check_bipartite, que comprueba si un grafo es\n",
        "bipartito. Un grafo bipartito es un grafo tal que su conjunto de vértices puede\n",
        "particionarse en dos conjuntos independientes, de manera que las aristas no pueden relacionar vértices de un mismo conjunto. Es decir, dos vértices adyacentes nunca estarán en el mismo conjunto. \n",
        "\n",
        "Por ejemplo, el siguiente grafo es bipartito: \n",
        "<img src='https://graphonline.ru/tmp/saved/XR/XRmBpPjiLYfUvjSa.png'>\n",
        "\n",
        "Vamos aprovechar el hecho de que dos vértices adyacentes nunca estarán en el mismo conjunto para detectar si nuestro grafo es bipartito o no. \n",
        "\n",
        "El objetivo es recorrer el grafo y comprobar si algún par de vértices adyacentes están en el mismo conjunto. En caso de encontrar un par de vértices en el mismo conjunto podemos afirmar que el grafo no es bipartito, y devolveremos False. En caso contrario, es decir, hemos recorrido todo el grafo y no hemos encontrado ningún par de vértices adyacentes que estén en el mismo conjunto, podremos afirmar que el grafo es bipartito, y devolver True. \n",
        "\n",
        "Para guardar el conjunto de cada vértice, vamos a utilizar un diccionario que contendrá todos los vértices del grafo, e inicialmente un valor de None. Este valor se va a ir modificando a medida que vamos recorriendo el grafo, y para cada vértice visitado iremos guardando si el vértice visitado está en el conjunto 1 o 0. El primer vértice siempre estará en el conjunto 1, y sus vértices adyacentes estarán en el conjunto 0. \n",
        "\n",
        "Al visitar un vértice, vamos a obtener sus adyacentes y comprobar si estos ya tienen un conjunto definido (es decir, ya han sido visitados). Si un adyacente no lo tiene conjunto asignado (es decir, en el diccionario todavía está a None y aún no ha sido visitado), le asignamos el conjunto contrario al de su vértice origen. \n",
        "\n",
        "Si en cambio, el vértice adyacente sí tiene conjunto asignado, debemos comprobar si este conjunto es el mismo al de su vértice origen. En caso de serlo, habremos encontrado un par de vértices adyacentes que están en el mismo conjunto y que por tanto, el grafo es no bipartito. Debemos terminar y devolver False. Si el vértice adyacente tiene conjunto asignado pero es diferente al de su origen, deberemos continuar con el recorrido, sin añadirlo a la cola y sin modificar su conjunto, porque este vértice ya ha sido visitado. \n",
        "\n",
        "Si el grafo es no bipartito, saldremos del recorrido en algún momento, al encontrar dos vértices adyacentes en el mismo conjunto. Sin embargo, si el grafo es bipartito, el recorrido terminará (el diccionario de conjuntos hace también el papel de visited) y deberemos devolver True. \n",
        "\n",
        "A continuación, tienes la clase Graph con el método check_bipartite. En la clase Graph, únicamente hemos incluido los métodos necesarios para crear el grafo y mostrarlo. Además, para simplificar la solución, vamos a suponer que el grafo es no ponderado (es decir, no vamos a utilizar la clase AdjacentVertex). \n",
        "\n"
      ],
      "metadata": {
        "id": "661vxy5jzEUf"
      }
    },
    {
      "cell_type": "code",
      "execution_count": 1,
      "metadata": {
        "id": "3jHJqFH3zD38"
      },
      "outputs": [],
      "source": [
        "class Graph:\n",
        "    \"\"\"Implementation for a non-weighted graph\"\"\"\n",
        "    def __init__(self, labels: list, directed: bool = True) -> None:\n",
        "        self.vertices = {}\n",
        "        for v in labels:\n",
        "            self.vertices[v] = []\n",
        "        self.directed = directed\n",
        "\n",
        "    def add_edge(self, start: object, end: object) -> None:\n",
        "        \"\"\"add an edge from start to end\"\"\"\n",
        "        if start not in self.vertices.keys():\n",
        "            print(start, ' is not a vertex!!!')\n",
        "            return\n",
        "        if end not in self.vertices.keys():\n",
        "            print(end, ' is not a vertex!!!')\n",
        "            return\n",
        "\n",
        "        self.vertices[start].append(end)\n",
        "        if not self.directed:\n",
        "            # if the graph is not directed, we must also add the symmetric edge from\n",
        "            # end to start\n",
        "            self.vertices[end].append(start)\n",
        "            \n",
        "    def __str__(self) -> str:\n",
        "        \"\"\" returns a string containing the graph\"\"\"\n",
        "        result = ''\n",
        "        for v in self.vertices:\n",
        "            result += '\\n'+str(v)+': '\n",
        "            for u in self.vertices[v]:\n",
        "                result += str(u)+\"  \"\n",
        "        result += '\\n'\n",
        "        return result\n",
        "\n",
        "    def check_bipartite(self) -> bool:\n",
        "        \"\"\"returns True if the graph is bipartite, eoc False. It is based on\n",
        "        the BFS traversal\"\"\"\n",
        "        # create a dictionary to save the set for each vertes. At the beginning\n",
        "        # all vertices have None\n",
        "        dict_set = dict.fromkeys(self.vertices.keys(), None)\n",
        "        # print(dict_set)\n",
        "        # gets the first vertex\n",
        "        start = (list(self.vertices.keys()))[0]\n",
        "        # we use a queue to save the vertices in the BFS traversal\n",
        "        queue = [start]\n",
        "        dict_set[start] = 1 # the first vertex will belong to the set 1. \n",
        "\n",
        "        while len(queue)>0:     # while queue is not empty\n",
        "            # gets the first element in the queue\n",
        "            origin = queue.pop(0) \n",
        "\n",
        "            for adj_v in self.vertices[origin]:\n",
        "                if dict_set[adj_v] is None:\n",
        "                    # adj_v has not been visited yet\n",
        "                    # so we must add it to the queue\n",
        "                    queue.append(adj_v)\n",
        "                    # we must also assign it the opposite set to its origen\n",
        "                    dict_set[adj_v] = dict_set[origin] - 1\n",
        "                else:\n",
        "                    if dict_set[adj_v] == dict_set[origin]:\n",
        "                        # we can stop and return False, because we have just found\n",
        "                        # two adjacent vertices that belong to the same set\n",
        "                        return False\n",
        "                    # else: # if their sets are different, we must continue\n",
        "                    #   pass\n",
        "                    # we do not add it to the queue, becuase adj_v was already visited\n",
        "        \n",
        "        # if we reach this line, this means that there are no adjacent vertices that \n",
        "        # belong to the same set, and therefore, the graph is bipartite\n",
        "        return True\n",
        "\n",
        "        \n",
        "\n"
      ]
    },
    {
      "cell_type": "code",
      "source": [
        "g = Graph(['A', 'B', 'C', 'D', 'E'], False)\n",
        "g.add_edge('A', 'B')\n",
        "g.add_edge('A', 'D')\n",
        "\n",
        "g.add_edge('C', 'B')\n",
        "g.add_edge('C', 'D')\n",
        "\n",
        "g.add_edge('E', 'D')\n",
        "\n",
        "print(g)\n",
        "print('Is bipartite?: {}'.format(g.check_bipartite()))\n",
        "\n",
        "\n"
      ],
      "metadata": {
        "colab": {
          "base_uri": "https://localhost:8080/"
        },
        "id": "Vik7mqVR4a8Y",
        "outputId": "f9c626f5-9e61-4d21-e321-129d9ea34795"
      },
      "execution_count": 2,
      "outputs": [
        {
          "output_type": "stream",
          "name": "stdout",
          "text": [
            "\n",
            "A: B  D  \n",
            "B: A  C  \n",
            "C: B  D  \n",
            "D: A  C  E  \n",
            "E: D  \n",
            "\n",
            "Is bipartite?: True\n"
          ]
        }
      ]
    },
    {
      "cell_type": "markdown",
      "source": [
        "Vamos a añadir una arista al grafo de 'C' a 'E', por lo que va a dejar de ser bipartito:\n",
        "<img src='https://graphonline.ru/tmp/saved/ep/eprzBsvpSiOpDvjj.png'>"
      ],
      "metadata": {
        "id": "JxvzPOgA8CO_"
      }
    },
    {
      "cell_type": "code",
      "source": [
        "g.add_edge('C', 'E')\n",
        "\n",
        "print(g)\n",
        "print('Is bipartite?: {}'.format(g.check_bipartite()))\n"
      ],
      "metadata": {
        "colab": {
          "base_uri": "https://localhost:8080/"
        },
        "id": "f19i12yK8I9E",
        "outputId": "77cba31c-1ee0-41de-e88d-615aeb1bed09"
      },
      "execution_count": 3,
      "outputs": [
        {
          "output_type": "stream",
          "name": "stdout",
          "text": [
            "\n",
            "A: B  D  \n",
            "B: A  C  \n",
            "C: B  D  E  \n",
            "D: A  C  E  \n",
            "E: D  C  \n",
            "\n",
            "Is bipartite?: False\n"
          ]
        }
      ]
    },
    {
      "cell_type": "markdown",
      "source": [
        "## Ejercicio: \n",
        "\n",
        "Prueba con distintos grafos (bipartitos y no bipartitos) y comprueba su solución."
      ],
      "metadata": {
        "id": "fuhULNsm88dJ"
      }
    }
  ]
}