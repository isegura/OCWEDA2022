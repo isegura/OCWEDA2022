{
  "nbformat": 4,
  "nbformat_minor": 0,
  "metadata": {
    "colab": {
      "provenance": []
    },
    "kernelspec": {
      "name": "python3",
      "display_name": "Python 3"
    },
    "language_info": {
      "name": "python"
    }
  },
  "cells": [
    {
      "cell_type": "markdown",
      "source": [
        "La clase AdjacentVertex representa una tupla donde el primer elemento es un vértice y el segundo el peso asociado. \n",
        "\n"
      ],
      "metadata": {
        "id": "EnK5TH-8XG-3"
      }
    },
    {
      "cell_type": "markdown",
      "source": [
        "# Problemas 6 y 7\n",
        "\n",
        "Este notebook contiene la implementación explicada para los dos siguientes problemas:\n",
        "\n",
        "\n",
        "- Implementa un método, non_accesible, que reciba un vértice, vertex, y\n",
        "devuelva la lista vértices del grafo que no son accesibles desde vertex. Un\n",
        "vértice end es no accesible desde vertex si no existe ningún camino de vertex a\n",
        "end.\n",
        "\n",
        "- Implementa un método, get_recheable, que reciba un vértice, vertex, y\n",
        "devuelva la lista todos los vértices para los que existe un camino desde vertex.\n",
        "a) Implementa una solución basada en bfs.\n",
        "b) Implementa una solución basada en dfs.\n"
      ],
      "metadata": {
        "id": "VAld5iP2M4RI"
      }
    },
    {
      "cell_type": "code",
      "source": [
        "class AdjacentVertex:\n",
        "    \"\"\" This class allows us to represent a tuple\n",
        "    with an adjacent vertex\n",
        "    and the weight associated (by default None, for non-unweighted graphs)\"\"\"\n",
        "    def __init__(self, vertex: object, weight: int = 1) -> None:\n",
        "        self.vertex = vertex\n",
        "        self.weight = weight\n",
        "\n",
        "    def __eq_(self, other: 'AdjacentVertex') -> bool:\n",
        "        if other is None: \n",
        "            return False\n",
        "        return self.vertex == other.vertex and self.weight == other.weight \n",
        "        \n",
        "    def __str__(self) -> str:\n",
        "        \"\"\" returns the tuple (vertex, weight)\"\"\"\n",
        "        if self.weight is not None:\n",
        "            return '(' + str(self.vertex) + ',' + str(self.weight) + ')'\n",
        "        else:\n",
        "            return str(self.vertex)"
      ],
      "metadata": {
        "id": "UyHSIGv6XDZ6"
      },
      "execution_count": 7,
      "outputs": []
    },
    {
      "cell_type": "code",
      "execution_count": 8,
      "metadata": {
        "id": "c5Uw-OD9WsBf"
      },
      "outputs": [],
      "source": [
        "from queue import Queue\n",
        "\n",
        "class Graph:\n",
        "    def __init__(self, vertices: list, directed: bool = True) -> None:\n",
        "        \"\"\" We use a dictionary to represent the graph\n",
        "        the dictionary's keys are the vertices\n",
        "        The value associated for a given key will be the list of their neighbours.\n",
        "        Initially, the list of neighbours is empty\"\"\"\n",
        "        self._vertices = {}\n",
        "        for v in vertices:\n",
        "            self._vertices[v] = []\n",
        "        self._directed = directed\n",
        "\n",
        "    def add_vertex(self, vertex: str) -> None:\n",
        "        if vertex in self._vertices.keys():\n",
        "            print(vertex, ' already exists!')\n",
        "            return\n",
        "        self._vertices[vertex] = []\n",
        "\n",
        "    def add_edge(self, start: object, end: object, weight: int = 1) -> None:\n",
        "        if start not in self._vertices.keys():\n",
        "            print(start, ' does not exist!')\n",
        "            return\n",
        "        if end not in self._vertices.keys():\n",
        "            print(end, ' does not exist!')\n",
        "            return\n",
        "\n",
        "        # adds to the end of the list of neighbours for start\n",
        "        self._vertices[start].append(AdjacentVertex(end, weight))\n",
        "\n",
        "        if not self._directed:\n",
        "            # adds to the end of the list of neighbors for end\n",
        "            self._vertices[end].append(AdjacentVertex(start, weight))\n",
        "\n",
        "    def __str__(self) -> str:\n",
        "        \"\"\" returns a string containing the graph\"\"\"\n",
        "        result = ''\n",
        "        for v in self._vertices:\n",
        "            result += '\\n'+str(v)+':'\n",
        "            for adj in self._vertices[v]:\n",
        "                result += str(adj)+\"  \"\n",
        "        result += '\\n'\n",
        "        return result\n",
        "\n",
        "    def get_adjacent_vertices(self, start: object) -> list:\n",
        "        \"\"\" returns a Python list containing the adjacent\n",
        "        vertices of vertex. The list only contains the vertices\"\"\"\n",
        "        if start not in self._vertices.keys():\n",
        "            print(start, ' does not exist!')\n",
        "            return None\n",
        "        \n",
        "        result = []\n",
        "        for adj in self._vertices[start]:\n",
        "            result.append(adj.vertex)\n",
        "        return result\n",
        "\n",
        "    \n",
        "    def bfs(self, start: object) -> list:\n",
        "        \"\"\"BFS traversal from start\"\"\"\n",
        "        result = []\n",
        "        visited = dict.fromkeys(self._vertices.keys(), False)\n",
        "\n",
        "        q = Queue()\n",
        "        q.put(start)\n",
        "        visited[start] = True\n",
        "\n",
        "        while not q.empty():\n",
        "            v = q.get()\n",
        "            result.append(v)\n",
        "            lst_adj = self.get_adjacent_vertices(v)\n",
        "            for v in lst_adj:\n",
        "                if not visited[v]:\n",
        "                    visited[v] = True\n",
        "                    q.put(v)\n",
        "\n",
        "        return result\n",
        "        \n",
        "    def dfs(self, start: object) -> list:\n",
        "        \"\"\"DFS traversal (based on recursion) from start\"\"\"\n",
        "\n",
        "        result = []\n",
        "        visited = dict.fromkeys(self._vertices.keys(), False)\n",
        "        \n",
        "        self._dfs(start, visited, result)\n",
        "        return result\n",
        "\n",
        "    def _dfs(self, start: object, visited: dict, result: list) -> None:\n",
        "        visited[start] = True\n",
        "        result.append(start)\n",
        "        for v in self.get_adjacent_vertices(start):\n",
        "            if not visited[v]:\n",
        "                self._dfs(v, visited, result)   "
      ]
    },
    {
      "cell_type": "markdown",
      "source": [
        "Vamos a extender Graph para que contenga los dos nuevos métodos:"
      ],
      "metadata": {
        "id": "B8kq6BGyi5AC"
      }
    },
    {
      "cell_type": "code",
      "source": [
        "class Graph2(Graph):\n",
        "\n",
        "    def non_accesible(self, start: object) -> list:\n",
        "        \"\"\"returns a list containing those vertices that cannot be accesed from start\"\"\"\n",
        "        # first, we get those vertices that can be accessed from start\n",
        "        accesibles = self.dfs(start)\n",
        "        # now we obtain those vertices that are not in the previous list, accesibles\n",
        "        result = [v for v in self._vertices.keys() if v not in accesibles]    \n",
        "        return result\n",
        "\n",
        "    def get_reachable(self, start: object) -> list:\n",
        "        \"\"\"returns a list containing those vertices that cannot be accesed from start\"\"\"\n",
        "        # we must simply returns one of the traversal: dfs or bfs from start\n",
        "        return self.dfs(start)\n",
        "        # return self.bfs(start)\n",
        "        \n",
        "\n"
      ],
      "metadata": {
        "id": "BUfH-hPri8v9"
      },
      "execution_count": 9,
      "outputs": []
    },
    {
      "cell_type": "markdown",
      "source": [
        "<img src='https://i.stack.imgur.com/OYCLI.png' width='300'>\n"
      ],
      "metadata": {
        "id": "rrSU0PqykFUH"
      }
    },
    {
      "cell_type": "code",
      "source": [
        "labels = ['A', 'B', 'C', 'D', 'E', 'F']\n",
        "g = Graph2(labels, False)\n",
        "\n",
        "g.add_edge('A','B')\n",
        "g.add_edge('A','C')\n",
        "g.add_edge('B','C')\n",
        "g.add_edge('C','D')\n",
        "\n",
        "g.add_edge('E','F')\n",
        "print(g)\n",
        "for v in g._vertices.keys():\n",
        "    print(\"non accesible from {}: {}\".format(v, g.non_accesible(v)))\n",
        "    print(\"accesible from {}: {}\".format(v, g.get_reachable(v)))\n",
        "\n"
      ],
      "metadata": {
        "colab": {
          "base_uri": "https://localhost:8080/"
        },
        "id": "5RXD7Ts4j24I",
        "outputId": "20360d42-6d15-4d7b-eb12-4408decf1936"
      },
      "execution_count": 10,
      "outputs": [
        {
          "output_type": "stream",
          "name": "stdout",
          "text": [
            "\n",
            "A:(B,1)  (C,1)  \n",
            "B:(A,1)  (C,1)  \n",
            "C:(A,1)  (B,1)  (D,1)  \n",
            "D:(C,1)  \n",
            "E:(F,1)  \n",
            "F:(E,1)  \n",
            "\n",
            "non accesible from A: ['E', 'F']\n",
            "accesible from A: ['A', 'B', 'C', 'D']\n",
            "non accesible from B: ['E', 'F']\n",
            "accesible from B: ['B', 'A', 'C', 'D']\n",
            "non accesible from C: ['E', 'F']\n",
            "accesible from C: ['C', 'A', 'B', 'D']\n",
            "non accesible from D: ['E', 'F']\n",
            "accesible from D: ['D', 'C', 'A', 'B']\n",
            "non accesible from E: ['A', 'B', 'C', 'D']\n",
            "accesible from E: ['E', 'F']\n",
            "non accesible from F: ['A', 'B', 'C', 'D']\n",
            "accesible from F: ['F', 'E']\n"
          ]
        }
      ]
    },
    {
      "cell_type": "markdown",
      "source": [
        "<img src='https://upload.wikimedia.org/wikipedia/commons/thumb/1/1c/Directed_graph%2C_cyclic.svg/900px-Directed_graph%2C_cyclic.svg.png' widht='50'>"
      ],
      "metadata": {
        "id": "u-RWQa_4-arD"
      }
    },
    {
      "cell_type": "code",
      "source": [
        "labels = ['A', 'B', 'C', 'D', 'E', 'F']\n",
        "g = Graph2(labels)\n",
        "\n",
        "g.add_edge('A','B')\n",
        "g.add_edge('B','C')\n",
        "g.add_edge('C','E')\n",
        "\n",
        "g.add_edge('E','D')\n",
        "g.add_edge('E','F')\n",
        "\n",
        "g.add_edge('D','B')\n",
        "print(g)\n",
        "\n",
        "for v in g._vertices.keys():\n",
        "    print(\"non accesible from {}: {}\".format(v, g.non_accesible(v)))\n",
        "    print(\"accesible from {}: {}\".format(v, g.get_reachable(v)))\n",
        "\n"
      ],
      "metadata": {
        "colab": {
          "base_uri": "https://localhost:8080/"
        },
        "id": "Et-C8AG--hiI",
        "outputId": "6c4f6250-8d21-488c-f4a8-1510d5114f6a"
      },
      "execution_count": 11,
      "outputs": [
        {
          "output_type": "stream",
          "name": "stdout",
          "text": [
            "\n",
            "A:(B,1)  \n",
            "B:(C,1)  \n",
            "C:(E,1)  \n",
            "D:(B,1)  \n",
            "E:(D,1)  (F,1)  \n",
            "F:\n",
            "\n",
            "non accesible from A: []\n",
            "accesible from A: ['A', 'B', 'C', 'E', 'D', 'F']\n",
            "non accesible from B: ['A']\n",
            "accesible from B: ['B', 'C', 'E', 'D', 'F']\n",
            "non accesible from C: ['A']\n",
            "accesible from C: ['C', 'E', 'D', 'B', 'F']\n",
            "non accesible from D: ['A']\n",
            "accesible from D: ['D', 'B', 'C', 'E', 'F']\n",
            "non accesible from E: ['A']\n",
            "accesible from E: ['E', 'D', 'B', 'C', 'F']\n",
            "non accesible from F: ['A', 'B', 'C', 'D', 'E']\n",
            "accesible from F: ['F']\n"
          ]
        }
      ]
    }
  ]
}