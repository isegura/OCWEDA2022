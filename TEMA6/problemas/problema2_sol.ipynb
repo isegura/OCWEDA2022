{
  "nbformat": 4,
  "nbformat_minor": 0,
  "metadata": {
    "colab": {
      "provenance": []
    },
    "kernelspec": {
      "name": "python3",
      "display_name": "Python 3"
    },
    "language_info": {
      "name": "python"
    }
  },
  "cells": [
    {
      "cell_type": "markdown",
      "source": [
        "# Problema 2\n",
        "\n",
        "Este notebook contiene la explicación detallada del siguiente problema: \n",
        "\n",
        "\n",
        "En la clase Graph, implementación de un grafo basado en diccionario,\n",
        "(fichero graph.py), \n",
        "- Implementa un método get_adjacentes que reciba un\n",
        "vértice, vertex, y que devuelva una lista de Python conteniendo los\n",
        "vértices adyacentes a vertex. La lista únicamente contiene los vértices,\n",
        "no los pesos.\n",
        "- Implementa además un método, get_origins, que reciba un vértice,\n",
        "vertex, y que devuelva una lista de Python conteniendo aquellos vértices\n",
        "que sean origen de alguna arista cuyo destino sea vertex. La lista\n",
        "únicamente contiene los vértices, no los pesos.\n"
      ],
      "metadata": {
        "id": "K8EMgMbj_lGg"
      }
    },
    {
      "cell_type": "markdown",
      "source": [
        "La clase AdjacentVertex representa una tupla donde el primer elemento es un vértice y el segundo el peso asociado. \n",
        "\n"
      ],
      "metadata": {
        "id": "EnK5TH-8XG-3"
      }
    },
    {
      "cell_type": "code",
      "source": [
        "class AdjacentVertex:\n",
        "    \"\"\" This class allows us to represent a tuple\n",
        "    with an adjacent vertex\n",
        "    and the weight associated (by default None, for non-unweighted graphs)\"\"\"\n",
        "    def __init__(self, vertex: object, weight: int = 1) -> None:\n",
        "        self.vertex = vertex\n",
        "        self.weight = weight\n",
        "\n",
        "    def __eq_(self, other: 'AdjacentVertex') -> bool:\n",
        "        if other is None: \n",
        "            return False\n",
        "        return self.vertex == other.vertex and self.weight == other.weight \n",
        "        \n",
        "    def __str__(self) -> str:\n",
        "        \"\"\" returns the tuple (vertex, weight)\"\"\"\n",
        "        if self.weight is not None:\n",
        "            return '(' + str(self.vertex) + ',' + str(self.weight) + ')'\n",
        "        else:\n",
        "            return str(self.vertex)"
      ],
      "metadata": {
        "id": "UyHSIGv6XDZ6"
      },
      "execution_count": 3,
      "outputs": []
    },
    {
      "cell_type": "code",
      "execution_count": 4,
      "metadata": {
        "id": "c5Uw-OD9WsBf"
      },
      "outputs": [],
      "source": [
        "\n",
        "class Graph:\n",
        "    def __init__(self, vertices: list, directed: bool = True) -> None:\n",
        "        \"\"\" We use a dictionary to represent the graph\n",
        "        the dictionary's keys are the vertices\n",
        "        The value associated for a given key will be the list of their neighbours.\n",
        "        Initially, the list of neighbours is empty\"\"\"\n",
        "        self._vertices = {}\n",
        "        for v in vertices:\n",
        "            self._vertices[v] = []\n",
        "        self._directed = directed\n",
        "\n",
        "    def add_vertex(self, vertex: str) -> None:\n",
        "        if vertex in self._vertices.keys():\n",
        "            print(vertex, ' already exists!')\n",
        "            return\n",
        "        self._vertices[vertex] = []\n",
        "\n",
        "    def add_edge(self, start: object, end: object, weight: int = 1) -> None:\n",
        "        if start not in self._vertices.keys():\n",
        "            print(start, ' does not exist!')\n",
        "            return\n",
        "        if end not in self._vertices.keys():\n",
        "            print(end, ' does not exist!')\n",
        "            return\n",
        "\n",
        "        # adds to the end of the list of neighbours for start\n",
        "        self._vertices[start].append(AdjacentVertex(end, weight))\n",
        "\n",
        "        if not self._directed:\n",
        "            # adds to the end of the list of neighbors for end\n",
        "            self._vertices[end].append(AdjacentVertex(start, weight))\n",
        "\n",
        "    def contain_edge(self, start: object, end: object) -> int:\n",
        "        \"\"\" checks if the edge (start, end) exits. It does\n",
        "        not exist return 0, eoc returns its weight or 1 (for unweighted graphs)\"\"\"\n",
        "        if start not in self._vertices.keys():\n",
        "            print(start, ' does not exist!')\n",
        "            return 0\n",
        "        if end not in self._vertices.keys():\n",
        "            print(end, ' does not exist!')\n",
        "            return 0\n",
        "\n",
        "        # we search the AdjacentVertex whose v is equal to end\n",
        "\n",
        "        for adj in self._vertices[start]:\n",
        "            if adj.vertex == end:\n",
        "                return adj.weight\n",
        "\n",
        "        return 0  # does not exist\n",
        "\n",
        "    def remove_edge(self, start: object, end: object):\n",
        "        \"\"\" removes the edge (start, end)\"\"\"\n",
        "        if start not in self._vertices.keys():\n",
        "            print(start, ' does not exist!')\n",
        "            return\n",
        "        if end not in self._vertices.keys():\n",
        "            print(end, ' does not exist!')\n",
        "            return\n",
        "\n",
        "        # we must look for the adjacent AdjacentVertex (neighbour)  whose vertex is end, and then remove it\n",
        "        exist = False\n",
        "        for adj in self._vertices[start]:\n",
        "            if adj.vertex == end:\n",
        "                exist = True\n",
        "                self._vertices[start].remove(adj)\n",
        "        if not self._directed:\n",
        "            # we must also look for the AdjacentVertex (neighbour)  whose vertex is end, and then remove it\n",
        "            for adj in self._vertices[end]:\n",
        "                if adj.vertex == start:\n",
        "                    self._vertices[end].remove(adj)\n",
        "\n",
        "        if not exist: \n",
        "            print(\"({},{}) does not exist!!!!\".format(start, end))\n",
        "\n",
        "\n",
        "    def __str__(self) -> str:\n",
        "        \"\"\" returns a string containing the graph\"\"\"\n",
        "        result = ''\n",
        "        for v in self._vertices:\n",
        "            result += '\\n'+str(v)+':'\n",
        "            for adj in self._vertices[v]:\n",
        "                result += str(adj)+\"  \"\n",
        "        result += '\\n'\n",
        "        return result\n",
        "\n",
        "   \n"
      ]
    },
    {
      "cell_type": "markdown",
      "source": [
        "Vamos a extender la clase Graph para que tenga dos nuevos métodos:\n",
        "- get_adjacent_vertices que recibe un vértice, start, y devuelve una lista de Python que contiene todos los vértices adyacentes a start (sin la información del peso).\n",
        "- get_origins que recibe un vértice, end, y devuelve una lista de Python con todos los vértices que tienen un arista cuyo destino es end. \n"
      ],
      "metadata": {
        "id": "X9Fxm5uZfpL8"
      }
    },
    {
      "cell_type": "code",
      "source": [
        "class Graph2(Graph):\n",
        "    def get_adjacent_vertices(self, start: object) -> list:\n",
        "        \"\"\" returns a Python list containing the adjacent\n",
        "        vertices of vertex. The list only contains the vertices\"\"\"\n",
        "        if start not in self._vertices.keys():\n",
        "            print(start, ' does not exist!')\n",
        "            return None\n",
        "        \n",
        "        result = []\n",
        "        for adj in self._vertices[start]:\n",
        "            result.append(adj.vertex)\n",
        "        return result\n",
        "\n",
        "\n",
        "    def get_origins(self, end: object) -> list:\n",
        "        \"\"\" returns a Python list containing those vertices that have\n",
        "        an edge to vertex. The list is formed with objects of AdjacentVertex\"\"\"\n",
        "\n",
        "        \n",
        "        if end not in self._vertices.keys():\n",
        "            print(end, ' does not exist!')\n",
        "            return None\n",
        "        \n",
        "        result = []\n",
        "        for v in self._vertices.keys():\n",
        "\n",
        "            for adj in self._vertices[v]:\n",
        "                if adj.vertex == end:\n",
        "                    result.append(v)\n",
        "                    \n",
        "        return result\n"
      ],
      "metadata": {
        "id": "PjOQ0--Nfsq7"
      },
      "execution_count": 5,
      "outputs": []
    },
    {
      "cell_type": "markdown",
      "source": [
        "Veamos algunos ejemplos:"
      ],
      "metadata": {
        "id": "4W-xRW5mC398"
      }
    },
    {
      "cell_type": "markdown",
      "source": [
        "<img src='https://upload.wikimedia.org/wikipedia/commons/thumb/f/fe/Tred-G.svg/440px-Tred-G.svg.png' width='300'>"
      ],
      "metadata": {
        "id": "hOWsZTRX8I1R"
      }
    },
    {
      "cell_type": "code",
      "source": [
        "labels = ['a', 'b', 'c', 'd', 'e']\n",
        "g = Graph2(labels)\n",
        "\n",
        "g.add_edge('a','b')\n",
        "g.add_edge('a','c')\n",
        "g.add_edge('a','d')\n",
        "g.add_edge('a','e')\n",
        "\n",
        "g.add_edge('b','d')\n",
        "g.add_edge('c','d')\n",
        "g.add_edge('c','e')\n",
        "g.add_edge('d','e')\n",
        "# print(g)\n",
        "\n",
        "print(g)\n",
        "for v in g._vertices.keys():\n",
        "    print(\"adjacent vertices for {}:{}\".format(v, g.get_adjacent_vertices(v)))\n",
        "    print(\"origin vertices for {}:{}\".format(v, g.get_origins(v)))\n",
        "    print()\n"
      ],
      "metadata": {
        "colab": {
          "base_uri": "https://localhost:8080/"
        },
        "outputId": "33bd9f21-5e2f-4734-e2be-e6d487204c2e",
        "id": "16o7MY1K8h_z"
      },
      "execution_count": 6,
      "outputs": [
        {
          "output_type": "stream",
          "name": "stdout",
          "text": [
            "\n",
            "a:(b,1)  (c,1)  (d,1)  (e,1)  \n",
            "b:(d,1)  \n",
            "c:(d,1)  (e,1)  \n",
            "d:(e,1)  \n",
            "e:\n",
            "\n",
            "adjacent vertices for a:['b', 'c', 'd', 'e']\n",
            "origin vertices for a:[]\n",
            "\n",
            "adjacent vertices for b:['d']\n",
            "origin vertices for b:['a']\n",
            "\n",
            "adjacent vertices for c:['d', 'e']\n",
            "origin vertices for c:['a']\n",
            "\n",
            "adjacent vertices for d:['e']\n",
            "origin vertices for d:['a', 'b', 'c']\n",
            "\n",
            "adjacent vertices for e:[]\n",
            "origin vertices for e:['a', 'c', 'd']\n",
            "\n"
          ]
        }
      ]
    },
    {
      "cell_type": "markdown",
      "source": [
        "<img src='https://static.javatpoint.com/ds/images/breadth-first-search-algorithm-example.png' widht='300'>"
      ],
      "metadata": {
        "id": "H4Cjvhnm8Q5T"
      }
    },
    {
      "cell_type": "code",
      "source": [
        "labels = ['A', 'B', 'C', 'D', 'E', 'F', 'G']\n",
        "g = Graph2(labels)\n",
        "\n",
        "g.add_edge('A','B')\n",
        "g.add_edge('A','D')\n",
        "\n",
        "g.add_edge('B','C')\n",
        "g.add_edge('B','F')\n",
        "\n",
        "g.add_edge('C','E')\n",
        "g.add_edge('C','G')\n",
        "\n",
        "g.add_edge('D','F')\n",
        "\n",
        "g.add_edge('E','F')\n",
        "g.add_edge('E','B')\n",
        "\n",
        "g.add_edge('F','A')\n",
        "\n",
        "g.add_edge('G','E')\n",
        "\n",
        "for c in g._vertices:\n",
        "    print(\"adjacent vertices of {} : {} \".format(c, str(g.get_adjacent_vertices(c))))\n",
        "    print(\"origins for {} : {} \".format(c, str(g.get_origins(c))))\n",
        "    print()"
      ],
      "metadata": {
        "colab": {
          "base_uri": "https://localhost:8080/"
        },
        "outputId": "551592ba-58ff-4136-a45f-0ab049f2cae2",
        "id": "qiSy96ip8h_0"
      },
      "execution_count": 7,
      "outputs": [
        {
          "output_type": "stream",
          "name": "stdout",
          "text": [
            "adjacent vertices of A : ['B', 'D'] \n",
            "origins for A : ['F'] \n",
            "\n",
            "adjacent vertices of B : ['C', 'F'] \n",
            "origins for B : ['A', 'E'] \n",
            "\n",
            "adjacent vertices of C : ['E', 'G'] \n",
            "origins for C : ['B'] \n",
            "\n",
            "adjacent vertices of D : ['F'] \n",
            "origins for D : ['A'] \n",
            "\n",
            "adjacent vertices of E : ['F', 'B'] \n",
            "origins for E : ['C', 'G'] \n",
            "\n",
            "adjacent vertices of F : ['A'] \n",
            "origins for F : ['B', 'D', 'E'] \n",
            "\n",
            "adjacent vertices of G : ['E'] \n",
            "origins for G : ['C'] \n",
            "\n"
          ]
        }
      ]
    },
    {
      "cell_type": "markdown",
      "source": [
        "# Ejercicio: \n",
        "1) Crea el siguiente grafo no dirigido: \n",
        "<img src='https://graphonline.ru/tmp/saved/XR/XRmBpPjiLYfUvjSa.png'>\n",
        "2) Modifica el grafo anterior para que quede como el siguiente y prueba los métodos para este nuevo grafo:\n",
        "<img src='https://graphonline.ru/tmp/saved/ep/eprzBsvpSiOpDvjj.png'>\n",
        "3) Crea el siguiente grafo ponderado y prueba los métodos para este grafo:\n",
        "<img src='https://infinitegraph.com/wp-content/uploads/2021/04/WeightedGraph01.png'>\n",
        "\n",
        "4) Práctica con otros grafos. "
      ],
      "metadata": {
        "id": "QHlRKJrXDtQG"
      }
    }
  ]
}